{
 "cells": [
  {
   "cell_type": "code",
   "execution_count": 36,
   "metadata": {},
   "outputs": [],
   "source": [
    "import pandas as pd\n",
    "import numpy as np\n",
    "import matplotlib.pyplot as plt\n",
    "import sqlite3 as sqlite\n",
    "from sqlalchemy import create_engine\n"
   ]
  },
  {
   "cell_type": "markdown",
   "metadata": {},
   "source": [
    "Join the data from Part 1 with the data from Part 2 to create a new dataframe."
   ]
  },
  {
   "cell_type": "code",
   "execution_count": 5,
   "metadata": {},
   "outputs": [],
   "source": [
    "df_foursquare = pd.read_csv('foursquare_data.csv')\n",
    "df_yelp = pd.read_csv('yeld_data.csv')\n",
    "\n",
    "# Will only be getting first 10 rows from foursquare because i only have 10 from yelp"
   ]
  },
  {
   "cell_type": "code",
   "execution_count": 13,
   "metadata": {
    "tags": []
   },
   "outputs": [
    {
     "data": {
      "text/html": [
       "<div>\n",
       "<style scoped>\n",
       "    .dataframe tbody tr th:only-of-type {\n",
       "        vertical-align: middle;\n",
       "    }\n",
       "\n",
       "    .dataframe tbody tr th {\n",
       "        vertical-align: top;\n",
       "    }\n",
       "\n",
       "    .dataframe thead th {\n",
       "        text-align: right;\n",
       "    }\n",
       "</style>\n",
       "<table border=\"1\" class=\"dataframe\">\n",
       "  <thead>\n",
       "    <tr style=\"text-align: right;\">\n",
       "      <th></th>\n",
       "      <th>latitude</th>\n",
       "      <th>longitude</th>\n",
       "      <th>Number of Parks found (FourSquare)</th>\n",
       "      <th>Distance to Closest Park (FourSquare)</th>\n",
       "      <th>Number of Parks found (Yelp)</th>\n",
       "      <th>Distance to Closest Park (Yelp)</th>\n",
       "    </tr>\n",
       "  </thead>\n",
       "  <tbody>\n",
       "    <tr>\n",
       "      <th>0</th>\n",
       "      <td>43.665269</td>\n",
       "      <td>-79.319796</td>\n",
       "      <td>5</td>\n",
       "      <td>63.0</td>\n",
       "      <td>3</td>\n",
       "      <td>73.308008</td>\n",
       "    </tr>\n",
       "    <tr>\n",
       "      <th>1</th>\n",
       "      <td>43.671420</td>\n",
       "      <td>-79.445947</td>\n",
       "      <td>6</td>\n",
       "      <td>61.0</td>\n",
       "      <td>1</td>\n",
       "      <td>500.794541</td>\n",
       "    </tr>\n",
       "    <tr>\n",
       "      <th>2</th>\n",
       "      <td>43.666224</td>\n",
       "      <td>-79.317693</td>\n",
       "      <td>10</td>\n",
       "      <td>138.0</td>\n",
       "      <td>5</td>\n",
       "      <td>258.478643</td>\n",
       "    </tr>\n",
       "    <tr>\n",
       "      <th>3</th>\n",
       "      <td>43.653236</td>\n",
       "      <td>-79.376716</td>\n",
       "      <td>9</td>\n",
       "      <td>214.0</td>\n",
       "      <td>4</td>\n",
       "      <td>340.683204</td>\n",
       "    </tr>\n",
       "    <tr>\n",
       "      <th>4</th>\n",
       "      <td>43.663722</td>\n",
       "      <td>-79.380288</td>\n",
       "      <td>10</td>\n",
       "      <td>163.0</td>\n",
       "      <td>12</td>\n",
       "      <td>198.441814</td>\n",
       "    </tr>\n",
       "    <tr>\n",
       "      <th>5</th>\n",
       "      <td>43.657763</td>\n",
       "      <td>-79.389165</td>\n",
       "      <td>2</td>\n",
       "      <td>307.0</td>\n",
       "      <td>5</td>\n",
       "      <td>288.293606</td>\n",
       "    </tr>\n",
       "    <tr>\n",
       "      <th>6</th>\n",
       "      <td>43.656729</td>\n",
       "      <td>-79.382736</td>\n",
       "      <td>8</td>\n",
       "      <td>270.0</td>\n",
       "      <td>6</td>\n",
       "      <td>264.774708</td>\n",
       "    </tr>\n",
       "    <tr>\n",
       "      <th>7</th>\n",
       "      <td>43.664467</td>\n",
       "      <td>-79.414783</td>\n",
       "      <td>6</td>\n",
       "      <td>253.0</td>\n",
       "      <td>3</td>\n",
       "      <td>50.869729</td>\n",
       "    </tr>\n",
       "    <tr>\n",
       "      <th>8</th>\n",
       "      <td>43.675492</td>\n",
       "      <td>-79.388858</td>\n",
       "      <td>7</td>\n",
       "      <td>48.0</td>\n",
       "      <td>5</td>\n",
       "      <td>60.405338</td>\n",
       "    </tr>\n",
       "    <tr>\n",
       "      <th>9</th>\n",
       "      <td>43.674991</td>\n",
       "      <td>-79.396273</td>\n",
       "      <td>8</td>\n",
       "      <td>164.0</td>\n",
       "      <td>2</td>\n",
       "      <td>11936.443958</td>\n",
       "    </tr>\n",
       "  </tbody>\n",
       "</table>\n",
       "</div>"
      ],
      "text/plain": [
       "    latitude  longitude  Number of Parks found (FourSquare)  \\\n",
       "0  43.665269 -79.319796                                   5   \n",
       "1  43.671420 -79.445947                                   6   \n",
       "2  43.666224 -79.317693                                  10   \n",
       "3  43.653236 -79.376716                                   9   \n",
       "4  43.663722 -79.380288                                  10   \n",
       "5  43.657763 -79.389165                                   2   \n",
       "6  43.656729 -79.382736                                   8   \n",
       "7  43.664467 -79.414783                                   6   \n",
       "8  43.675492 -79.388858                                   7   \n",
       "9  43.674991 -79.396273                                   8   \n",
       "\n",
       "   Distance to Closest Park (FourSquare)  Number of Parks found (Yelp)  \\\n",
       "0                                   63.0                             3   \n",
       "1                                   61.0                             1   \n",
       "2                                  138.0                             5   \n",
       "3                                  214.0                             4   \n",
       "4                                  163.0                            12   \n",
       "5                                  307.0                             5   \n",
       "6                                  270.0                             6   \n",
       "7                                  253.0                             3   \n",
       "8                                   48.0                             5   \n",
       "9                                  164.0                             2   \n",
       "\n",
       "   Distance to Closest Park (Yelp)  \n",
       "0                        73.308008  \n",
       "1                       500.794541  \n",
       "2                       258.478643  \n",
       "3                       340.683204  \n",
       "4                       198.441814  \n",
       "5                       288.293606  \n",
       "6                       264.774708  \n",
       "7                        50.869729  \n",
       "8                        60.405338  \n",
       "9                     11936.443958  "
      ]
     },
     "execution_count": 13,
     "metadata": {},
     "output_type": "execute_result"
    }
   ],
   "source": [
    "merged_df = pd.merge(df_foursquare, df_yelp, on=['latitude', 'longitude'])\n",
    "merged_df.rename(columns={'Number of Parks found_x': 'Number of Parks found (FourSquare)', 'Distance to Closest Park_x': 'Distance to Closest Park (FourSquare)', 'Number of Parks found_y': 'Number of Parks found (Yelp)', 'Distance to Closest Park_y': 'Distance to Closest Park (Yelp)'}, inplace=True)\n",
    "merged_df"
   ]
  },
  {
   "cell_type": "code",
   "execution_count": 32,
   "metadata": {
    "tags": []
   },
   "outputs": [],
   "source": [
    "merged_df.to_csv('merged_df.csv', index=False)"
   ]
  },
  {
   "cell_type": "markdown",
   "metadata": {},
   "source": [
    "Provide a visualization that you used as part of your EDA process. Explain the initial pattern or relationship you discoved through this visualization. "
   ]
  },
  {
   "cell_type": "code",
   "execution_count": 31,
   "metadata": {},
   "outputs": [
    {
     "data": {
      "image/png": "[encoded data removed]",
      "text/plain": [
       "<Figure size 640x480 with 1 Axes>"
      ]
     },
     "metadata": {},
     "output_type": "display_data"
    }
   ],
   "source": [
    "x = 'Avg. # of Parks found (FourSquare)'\n",
    "x2 = 'Avg. # of Parks found (Yelp)'\n",
    "plt.bar(x, merged_df['Number of Parks found (FourSquare)'].mean())\n",
    "plt.bar(x2, merged_df['Number of Parks found (Yelp)'].mean())\n",
    "\n",
    "\n",
    "plt.show()"
   ]
  },
  {
   "cell_type": "markdown",
   "metadata": {},
   "source": [
    "# Database"
   ]
  },
  {
   "cell_type": "markdown",
   "metadata": {},
   "source": [
    "Put all your results in an SQLite3 database (remember, SQLite stores its databases as files in your local machine - make sure to create your database in your project's data/ directory!)"
   ]
  },
  {
   "cell_type": "code",
   "execution_count": 51,
   "metadata": {},
   "outputs": [
    {
     "data": {
      "text/plain": [
       "10"
      ]
     },
     "execution_count": 51,
     "metadata": {},
     "output_type": "execute_result"
    }
   ],
   "source": [
    "conn = sqlite.connect('stats_project.db')\n",
    "merged_df.to_sql('mergered_foursquare_yelp', conn, index=False, if_exists='replace')\n"
   ]
  },
  {
   "cell_type": "code",
   "execution_count": 52,
   "metadata": {
    "tags": []
   },
   "outputs": [],
   "source": [
    "engine = create_engine('sqlite:///data/stats_project.db')\n"
   ]
  },
  {
   "cell_type": "code",
   "execution_count": 58,
   "metadata": {
    "tags": []
   },
   "outputs": [
    {
     "name": "stdout",
     "output_type": "stream",
     "text": [
      " latitude  longitude  Number of Parks found (FourSquare)  Distance to Closest Park (FourSquare)  Number of Parks found (Yelp)  Distance to Closest Park (Yelp)\n",
      "43.665269 -79.319796                                   5                                   63.0                             3                        73.308008\n",
      "43.671420 -79.445947                                   6                                   61.0                             1                       500.794541\n",
      "43.666224 -79.317693                                  10                                  138.0                             5                       258.478643\n",
      "43.653236 -79.376716                                   9                                  214.0                             4                       340.683204\n",
      "43.663722 -79.380288                                  10                                  163.0                            12                       198.441814\n",
      "43.657763 -79.389165                                   2                                  307.0                             5                       288.293606\n",
      "43.656729 -79.382736                                   8                                  270.0                             6                       264.774708\n",
      "43.664467 -79.414783                                   6                                  253.0                             3                        50.869729\n",
      "43.675492 -79.388858                                   7                                   48.0                             5                        60.405338\n",
      "43.674991 -79.396273                                   8                                  164.0                             2                     11936.443958\n"
     ]
    }
   ],
   "source": [
    "query = 'SELECT * FROM mergered_foursquare_yelp'\n",
    "result_df = pd.read_sql_query(query, conn)\n",
    "\n",
    "print(result_df.to_string(index=False))\n"
   ]
  },
  {
   "cell_type": "markdown",
   "metadata": {},
   "source": [
    "Look at the data before and after the join to validate your data."
   ]
  },
  {
   "cell_type": "code",
   "execution_count": null,
   "metadata": {},
   "outputs": [],
   "source": [
    "# The data resembles what was seen in the merged_df dataframe that was created"
   ]
  }
 ],
 "metadata": {
  "kernelspec": {
   "display_name": "Python 3 (ipykernel)",
   "language": "python",
   "name": "python3"
  },
  "language_info": {
   "codemirror_mode": {
    "name": "ipython",
    "version": 3
   },
   "file_extension": ".py",
   "mimetype": "text/x-python",
   "name": "python",
   "nbconvert_exporter": "python",
   "pygments_lexer": "ipython3",
   "version": "3.11.5"
  }
 },
 "nbformat": 4,
 "nbformat_minor": 4
}
