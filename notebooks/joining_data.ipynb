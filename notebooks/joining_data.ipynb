{
 "cells": [
  {
   "cell_type": "code",
   "execution_count": 3,
   "metadata": {},
   "outputs": [],
   "source": [
    "import pandas as pd\n",
    "import numpy as np\n",
    "import matplotlib.pyplot as plt\n",
    "import sqlite3 as sqlite\n",
    "from sqlalchemy import create_engine\n"
   ]
  },
  {
   "cell_type": "markdown",
   "metadata": {},
   "source": [
    "Join the data from Part 1 with the data from Part 2 to create a new dataframe."
   ]
  },
  {
   "cell_type": "code",
   "execution_count": 4,
   "metadata": {},
   "outputs": [],
   "source": [
    "df_foursquare = pd.read_csv('foursquare_data.csv')\n",
    "df_yelp = pd.read_csv('yeld_data.csv')\n",
    "\n",
    "# Will only be getting first 10 rows from foursquare because i only have 10 from yelp"
   ]
  },
  {
   "cell_type": "code",
   "execution_count": 21,
   "metadata": {
    "tags": []
   },
   "outputs": [
    {
     "data": {
      "text/html": [
       "<div>\n",
       "<style scoped>\n",
       "    .dataframe tbody tr th:only-of-type {\n",
       "        vertical-align: middle;\n",
       "    }\n",
       "\n",
       "    .dataframe tbody tr th {\n",
       "        vertical-align: top;\n",
       "    }\n",
       "\n",
       "    .dataframe thead th {\n",
       "        text-align: right;\n",
       "    }\n",
       "</style>\n",
       "<table border=\"1\" class=\"dataframe\">\n",
       "  <thead>\n",
       "    <tr style=\"text-align: right;\">\n",
       "      <th></th>\n",
       "      <th>latitude</th>\n",
       "      <th>longitude</th>\n",
       "      <th>Number of Parks found (FourSquare)</th>\n",
       "      <th>Distance to Closest Park (FourSquare)</th>\n",
       "      <th>Number of Parks found (Yelp)</th>\n",
       "      <th>Distance to Closest Park (Yelp)</th>\n",
       "    </tr>\n",
       "  </thead>\n",
       "  <tbody>\n",
       "    <tr>\n",
       "      <th>0</th>\n",
       "      <td>43.665269</td>\n",
       "      <td>-79.319796</td>\n",
       "      <td>5</td>\n",
       "      <td>63.0</td>\n",
       "      <td>3</td>\n",
       "      <td>73.308008</td>\n",
       "    </tr>\n",
       "    <tr>\n",
       "      <th>1</th>\n",
       "      <td>43.671420</td>\n",
       "      <td>-79.445947</td>\n",
       "      <td>6</td>\n",
       "      <td>61.0</td>\n",
       "      <td>1</td>\n",
       "      <td>500.794541</td>\n",
       "    </tr>\n",
       "    <tr>\n",
       "      <th>2</th>\n",
       "      <td>43.666224</td>\n",
       "      <td>-79.317693</td>\n",
       "      <td>10</td>\n",
       "      <td>138.0</td>\n",
       "      <td>5</td>\n",
       "      <td>258.478643</td>\n",
       "    </tr>\n",
       "    <tr>\n",
       "      <th>3</th>\n",
       "      <td>43.653236</td>\n",
       "      <td>-79.376716</td>\n",
       "      <td>9</td>\n",
       "      <td>214.0</td>\n",
       "      <td>4</td>\n",
       "      <td>340.683204</td>\n",
       "    </tr>\n",
       "    <tr>\n",
       "      <th>4</th>\n",
       "      <td>43.663722</td>\n",
       "      <td>-79.380288</td>\n",
       "      <td>10</td>\n",
       "      <td>163.0</td>\n",
       "      <td>12</td>\n",
       "      <td>198.441814</td>\n",
       "    </tr>\n",
       "    <tr>\n",
       "      <th>5</th>\n",
       "      <td>43.657763</td>\n",
       "      <td>-79.389165</td>\n",
       "      <td>2</td>\n",
       "      <td>307.0</td>\n",
       "      <td>5</td>\n",
       "      <td>288.293606</td>\n",
       "    </tr>\n",
       "    <tr>\n",
       "      <th>6</th>\n",
       "      <td>43.656729</td>\n",
       "      <td>-79.382736</td>\n",
       "      <td>8</td>\n",
       "      <td>270.0</td>\n",
       "      <td>6</td>\n",
       "      <td>264.774708</td>\n",
       "    </tr>\n",
       "    <tr>\n",
       "      <th>7</th>\n",
       "      <td>43.664467</td>\n",
       "      <td>-79.414783</td>\n",
       "      <td>6</td>\n",
       "      <td>253.0</td>\n",
       "      <td>3</td>\n",
       "      <td>50.869729</td>\n",
       "    </tr>\n",
       "    <tr>\n",
       "      <th>8</th>\n",
       "      <td>43.675492</td>\n",
       "      <td>-79.388858</td>\n",
       "      <td>7</td>\n",
       "      <td>48.0</td>\n",
       "      <td>5</td>\n",
       "      <td>60.405338</td>\n",
       "    </tr>\n",
       "    <tr>\n",
       "      <th>9</th>\n",
       "      <td>43.674991</td>\n",
       "      <td>-79.396273</td>\n",
       "      <td>8</td>\n",
       "      <td>164.0</td>\n",
       "      <td>2</td>\n",
       "      <td>11936.443958</td>\n",
       "    </tr>\n",
       "  </tbody>\n",
       "</table>\n",
       "</div>"
      ],
      "text/plain": [
       "    latitude  longitude  Number of Parks found (FourSquare)  \\\n",
       "0  43.665269 -79.319796                                   5   \n",
       "1  43.671420 -79.445947                                   6   \n",
       "2  43.666224 -79.317693                                  10   \n",
       "3  43.653236 -79.376716                                   9   \n",
       "4  43.663722 -79.380288                                  10   \n",
       "5  43.657763 -79.389165                                   2   \n",
       "6  43.656729 -79.382736                                   8   \n",
       "7  43.664467 -79.414783                                   6   \n",
       "8  43.675492 -79.388858                                   7   \n",
       "9  43.674991 -79.396273                                   8   \n",
       "\n",
       "   Distance to Closest Park (FourSquare)  Number of Parks found (Yelp)  \\\n",
       "0                                   63.0                             3   \n",
       "1                                   61.0                             1   \n",
       "2                                  138.0                             5   \n",
       "3                                  214.0                             4   \n",
       "4                                  163.0                            12   \n",
       "5                                  307.0                             5   \n",
       "6                                  270.0                             6   \n",
       "7                                  253.0                             3   \n",
       "8                                   48.0                             5   \n",
       "9                                  164.0                             2   \n",
       "\n",
       "   Distance to Closest Park (Yelp)  \n",
       "0                        73.308008  \n",
       "1                       500.794541  \n",
       "2                       258.478643  \n",
       "3                       340.683204  \n",
       "4                       198.441814  \n",
       "5                       288.293606  \n",
       "6                       264.774708  \n",
       "7                        50.869729  \n",
       "8                        60.405338  \n",
       "9                     11936.443958  "
      ]
     },
     "execution_count": 21,
     "metadata": {},
     "output_type": "execute_result"
    }
   ],
   "source": [
    "merged_df = pd.merge(df_foursquare, df_yelp, on=['latitude', 'longitude'])\n",
    "merged_df.rename(columns={'Number of Parks found_x': 'Number of Parks found (FourSquare)', 'Distance to Closest Park_x': 'Distance to Closest Park (FourSquare)', 'Number of Parks found_y': 'Number of Parks found (Yelp)', 'Distance to Closest Park_y': 'Distance to Closest Park (Yelp)'}, inplace=True)\n",
    "merged_df"
   ]
  },
  {
   "cell_type": "code",
   "execution_count": 63,
   "metadata": {
    "tags": []
   },
   "outputs": [],
   "source": [
    "merged_df.to_csv('merged_df.csv', index=False)"
   ]
  },
  {
   "cell_type": "markdown",
   "metadata": {
    "tags": []
   },
   "source": [
    "## DATA AUDIT"
   ]
  },
  {
   "cell_type": "code",
   "execution_count": 44,
   "metadata": {
    "tags": []
   },
   "outputs": [
    {
     "name": "stdout",
     "output_type": "stream",
     "text": [
      "<class 'pandas.core.frame.DataFrame'>\n",
      "RangeIndex: 751 entries, 0 to 750\n",
      "Data columns (total 4 columns):\n",
      " #   Column                    Non-Null Count  Dtype  \n",
      "---  ------                    --------------  -----  \n",
      " 0   latitude                  751 non-null    float64\n",
      " 1   longitude                 751 non-null    float64\n",
      " 2   Number of Parks found     751 non-null    int64  \n",
      " 3   Distance to Closest Park  706 non-null    float64\n",
      "dtypes: float64(3), int64(1)\n",
      "memory usage: 23.6 KB\n"
     ]
    }
   ],
   "source": [
    "df_foursquare.info()"
   ]
  },
  {
   "cell_type": "code",
   "execution_count": 46,
   "metadata": {
    "tags": []
   },
   "outputs": [
    {
     "name": "stdout",
     "output_type": "stream",
     "text": [
      "<class 'pandas.core.frame.DataFrame'>\n",
      "RangeIndex: 10 entries, 0 to 9\n",
      "Data columns (total 4 columns):\n",
      " #   Column                    Non-Null Count  Dtype  \n",
      "---  ------                    --------------  -----  \n",
      " 0   latitude                  10 non-null     float64\n",
      " 1   longitude                 10 non-null     float64\n",
      " 2   Number of Parks found     10 non-null     int64  \n",
      " 3   Distance to Closest Park  10 non-null     float64\n",
      "dtypes: float64(3), int64(1)\n",
      "memory usage: 452.0 bytes\n"
     ]
    }
   ],
   "source": [
    "df_yelp.info()"
   ]
  },
  {
   "cell_type": "code",
   "execution_count": 48,
   "metadata": {
    "tags": []
   },
   "outputs": [
    {
     "data": {
      "text/plain": [
       "latitude                     0\n",
       "longitude                    0\n",
       "Number of Parks found        0\n",
       "Distance to Closest Park    45\n",
       "dtype: int64"
      ]
     },
     "execution_count": 48,
     "metadata": {},
     "output_type": "execute_result"
    }
   ],
   "source": [
    "df_foursquare.isnull().sum()"
   ]
  },
  {
   "cell_type": "code",
   "execution_count": 76,
   "metadata": {
    "tags": []
   },
   "outputs": [
    {
     "data": {
      "text/plain": [
       "latitude                    0\n",
       "longitude                   0\n",
       "Number of Parks found       0\n",
       "Distance to Closest Park    0\n",
       "dtype: int64"
      ]
     },
     "execution_count": 76,
     "metadata": {},
     "output_type": "execute_result"
    }
   ],
   "source": [
    "df_yelp.isnull().sum()"
   ]
  },
  {
   "cell_type": "markdown",
   "metadata": {},
   "source": [
    "For Distance to Closest Park categories, I purposely  made the value null instead of 0 when there are no parks within the radius, this is to not effect any computational or graphical applications. "
   ]
  },
  {
   "cell_type": "markdown",
   "metadata": {},
   "source": [
    "### Data Cleaning"
   ]
  },
  {
   "cell_type": "markdown",
   "metadata": {
    "tags": []
   },
   "source": [
    "I'm dropping the last row as it seems to be a huge outlier, potentially a glitch because the max distance should be 500 as observed with all other rows. This will need to be looked at further, it will not be in the regression model either as it could skew the results."
   ]
  },
  {
   "cell_type": "markdown",
   "metadata": {},
   "source": [
    "The row names were also changed:\n",
    "merged_df.rename(columns={'Number of Parks found_x': 'Number of Parks found (FourSquare)', 'Distance to Closest Park_x': 'Distance to Closest Park (FourSquare)', 'Number of Parks found_y': 'Number of Parks found (Yelp)', 'Distance to Closest Park_y': 'Distance to Closest Park (Yelp)'}, inplace=True)"
   ]
  },
  {
   "cell_type": "markdown",
   "metadata": {},
   "source": [
    "I also filtered all the results from the FourSquare and Yelp APIs to only use the distance and filter out the rest. "
   ]
  },
  {
   "cell_type": "code",
   "execution_count": 43,
   "metadata": {
    "tags": []
   },
   "outputs": [
    {
     "data": {
      "text/html": [
       "<div>\n",
       "<style scoped>\n",
       "    .dataframe tbody tr th:only-of-type {\n",
       "        vertical-align: middle;\n",
       "    }\n",
       "\n",
       "    .dataframe tbody tr th {\n",
       "        vertical-align: top;\n",
       "    }\n",
       "\n",
       "    .dataframe thead th {\n",
       "        text-align: right;\n",
       "    }\n",
       "</style>\n",
       "<table border=\"1\" class=\"dataframe\">\n",
       "  <thead>\n",
       "    <tr style=\"text-align: right;\">\n",
       "      <th></th>\n",
       "      <th>latitude</th>\n",
       "      <th>longitude</th>\n",
       "      <th>Number of Parks found (FourSquare)</th>\n",
       "      <th>Distance to Closest Park (FourSquare)</th>\n",
       "      <th>Number of Parks found (Yelp)</th>\n",
       "      <th>Distance to Closest Park (Yelp)</th>\n",
       "    </tr>\n",
       "  </thead>\n",
       "  <tbody>\n",
       "    <tr>\n",
       "      <th>0</th>\n",
       "      <td>43.665269</td>\n",
       "      <td>-79.319796</td>\n",
       "      <td>5</td>\n",
       "      <td>63.0</td>\n",
       "      <td>3</td>\n",
       "      <td>73.308008</td>\n",
       "    </tr>\n",
       "    <tr>\n",
       "      <th>1</th>\n",
       "      <td>43.671420</td>\n",
       "      <td>-79.445947</td>\n",
       "      <td>6</td>\n",
       "      <td>61.0</td>\n",
       "      <td>1</td>\n",
       "      <td>500.794541</td>\n",
       "    </tr>\n",
       "    <tr>\n",
       "      <th>2</th>\n",
       "      <td>43.666224</td>\n",
       "      <td>-79.317693</td>\n",
       "      <td>10</td>\n",
       "      <td>138.0</td>\n",
       "      <td>5</td>\n",
       "      <td>258.478643</td>\n",
       "    </tr>\n",
       "    <tr>\n",
       "      <th>3</th>\n",
       "      <td>43.653236</td>\n",
       "      <td>-79.376716</td>\n",
       "      <td>9</td>\n",
       "      <td>214.0</td>\n",
       "      <td>4</td>\n",
       "      <td>340.683204</td>\n",
       "    </tr>\n",
       "    <tr>\n",
       "      <th>4</th>\n",
       "      <td>43.663722</td>\n",
       "      <td>-79.380288</td>\n",
       "      <td>10</td>\n",
       "      <td>163.0</td>\n",
       "      <td>12</td>\n",
       "      <td>198.441814</td>\n",
       "    </tr>\n",
       "    <tr>\n",
       "      <th>5</th>\n",
       "      <td>43.657763</td>\n",
       "      <td>-79.389165</td>\n",
       "      <td>2</td>\n",
       "      <td>307.0</td>\n",
       "      <td>5</td>\n",
       "      <td>288.293606</td>\n",
       "    </tr>\n",
       "    <tr>\n",
       "      <th>6</th>\n",
       "      <td>43.656729</td>\n",
       "      <td>-79.382736</td>\n",
       "      <td>8</td>\n",
       "      <td>270.0</td>\n",
       "      <td>6</td>\n",
       "      <td>264.774708</td>\n",
       "    </tr>\n",
       "    <tr>\n",
       "      <th>7</th>\n",
       "      <td>43.664467</td>\n",
       "      <td>-79.414783</td>\n",
       "      <td>6</td>\n",
       "      <td>253.0</td>\n",
       "      <td>3</td>\n",
       "      <td>50.869729</td>\n",
       "    </tr>\n",
       "    <tr>\n",
       "      <th>8</th>\n",
       "      <td>43.675492</td>\n",
       "      <td>-79.388858</td>\n",
       "      <td>7</td>\n",
       "      <td>48.0</td>\n",
       "      <td>5</td>\n",
       "      <td>60.405338</td>\n",
       "    </tr>\n",
       "  </tbody>\n",
       "</table>\n",
       "</div>"
      ],
      "text/plain": [
       "    latitude  longitude  Number of Parks found (FourSquare)  \\\n",
       "0  43.665269 -79.319796                                   5   \n",
       "1  43.671420 -79.445947                                   6   \n",
       "2  43.666224 -79.317693                                  10   \n",
       "3  43.653236 -79.376716                                   9   \n",
       "4  43.663722 -79.380288                                  10   \n",
       "5  43.657763 -79.389165                                   2   \n",
       "6  43.656729 -79.382736                                   8   \n",
       "7  43.664467 -79.414783                                   6   \n",
       "8  43.675492 -79.388858                                   7   \n",
       "\n",
       "   Distance to Closest Park (FourSquare)  Number of Parks found (Yelp)  \\\n",
       "0                                   63.0                             3   \n",
       "1                                   61.0                             1   \n",
       "2                                  138.0                             5   \n",
       "3                                  214.0                             4   \n",
       "4                                  163.0                            12   \n",
       "5                                  307.0                             5   \n",
       "6                                  270.0                             6   \n",
       "7                                  253.0                             3   \n",
       "8                                   48.0                             5   \n",
       "\n",
       "   Distance to Closest Park (Yelp)  \n",
       "0                        73.308008  \n",
       "1                       500.794541  \n",
       "2                       258.478643  \n",
       "3                       340.683204  \n",
       "4                       198.441814  \n",
       "5                       288.293606  \n",
       "6                       264.774708  \n",
       "7                        50.869729  \n",
       "8                        60.405338  "
      ]
     },
     "execution_count": 43,
     "metadata": {},
     "output_type": "execute_result"
    }
   ],
   "source": [
    "merged_df"
   ]
  },
  {
   "cell_type": "markdown",
   "metadata": {},
   "source": [
    "## Data Visualization for EDA"
   ]
  },
  {
   "cell_type": "markdown",
   "metadata": {},
   "source": [
    "Provide a visualization that you used as part of your EDA process. Explain the initial pattern or relationship you discoved through this visualization. "
   ]
  },
  {
   "cell_type": "code",
   "execution_count": 64,
   "metadata": {
    "tags": []
   },
   "outputs": [
    {
     "data": {
      "image/png": "[encoded data removed]",
      "text/plain": [
       "<Figure size 640x480 with 1 Axes>"
      ]
     },
     "metadata": {},
     "output_type": "display_data"
    }
   ],
   "source": [
    "x = 'Avg. # of Parks found (FourSquare)'\n",
    "x2 = 'Avg. # of Parks found (Yelp)'\n",
    "plt.bar(x, merged_df['Number of Parks found (FourSquare)'].mean())\n",
    "plt.bar(x2, merged_df['Number of Parks found (Yelp)'].mean())\n",
    "\n",
    "\n",
    "plt.show()"
   ]
  },
  {
   "cell_type": "code",
   "execution_count": 54,
   "metadata": {
    "tags": []
   },
   "outputs": [
    {
     "data": {
      "text/plain": [
       "<matplotlib.legend.Legend at 0x12b43d390>"
      ]
     },
     "execution_count": 54,
     "metadata": {},
     "output_type": "execute_result"
    },
    {
     "data": {
      "image/png": "[encoded data removed]",
      "text/plain": [
       "<Figure size 640x480 with 1 Axes>"
      ]
     },
     "metadata": {},
     "output_type": "display_data"
    }
   ],
   "source": [
    "x = merged_df. index \n",
    "y = merged_df['Number of Parks found (FourSquare)']\n",
    "y2 = merged_df['Number of Parks found (Yelp)']\n",
    "plt.plot(x, y, label = 'Foursquare')\n",
    "plt.plot(x, y2, label = 'yelp')\n",
    "plt.xlabel('Bike Station')\n",
    "plt.ylabel('Number of parks found')\n",
    "\n",
    "plt.legend()\n"
   ]
  },
  {
   "cell_type": "code",
   "execution_count": 35,
   "metadata": {
    "tags": []
   },
   "outputs": [],
   "source": [
    "df_fsq = pd.read_csv('foursquare_data.csv')\n"
   ]
  },
  {
   "cell_type": "code",
   "execution_count": 53,
   "metadata": {
    "tags": []
   },
   "outputs": [
    {
     "data": {
      "image/png": "[encoded data removed]",
      "text/plain": [
       "<Figure size 640x480 with 1 Axes>"
      ]
     },
     "metadata": {},
     "output_type": "display_data"
    }
   ],
   "source": [
    "x = df_fsq.index\n",
    "\n",
    "plt.bar(x, df_fsq['Number of Parks found'])\n",
    "plt.xlabel('Bike Stations')\n",
    "plt.ylabel('Number of parks found')\n",
    "plt.show()"
   ]
  },
  {
   "cell_type": "code",
   "execution_count": 56,
   "metadata": {
    "tags": []
   },
   "outputs": [
    {
     "data": {
      "image/png": "[encoded data removed]",
      "text/plain": [
       "<Figure size 640x480 with 1 Axes>"
      ]
     },
     "metadata": {},
     "output_type": "display_data"
    }
   ],
   "source": [
    "x = df_fsq.index\n",
    "\n",
    "plt.hist(df_fsq['Number of Parks found'])\n",
    "plt.xlabel('Number of parks found')\n",
    "plt.ylabel('# of Bike Stations')\n",
    "plt.show()"
   ]
  },
  {
   "cell_type": "code",
   "execution_count": null,
   "metadata": {},
   "outputs": [],
   "source": [
    "# There's somewhat of a left skew, it should be noted that the numbers of parks found per bike station never exceeds 10 parks. "
   ]
  },
  {
   "cell_type": "code",
   "execution_count": 57,
   "metadata": {
    "tags": []
   },
   "outputs": [
    {
     "data": {
      "image/png": "[encoded data removed]",
      "text/plain": [
       "<Figure size 640x480 with 1 Axes>"
      ]
     },
     "metadata": {},
     "output_type": "display_data"
    }
   ],
   "source": [
    "plt.hist(df_fsq['Distance to Closest Park'])\n",
    "plt.xlabel('Distance to Closest Park (meters)')\n",
    "plt.ylabel('# of Bike Stations')\n",
    "plt.show()"
   ]
  },
  {
   "cell_type": "code",
   "execution_count": null,
   "metadata": {},
   "outputs": [],
   "source": [
    "# Its right skewed, should be noted that there's a few bike stations that are futher than 500 meters, this is suprising as the radius limit that was put on the API was 500m. So these would be seen as outliters and be taken out, especially the one near 1400m. "
   ]
  },
  {
   "cell_type": "code",
   "execution_count": 73,
   "metadata": {
    "tags": []
   },
   "outputs": [
    {
     "data": {
      "text/plain": [
       "Text(0, 0.5, 'Distance to Closest Park (meters)')"
      ]
     },
     "execution_count": 73,
     "metadata": {},
     "output_type": "execute_result"
    },
    {
     "data": {
      "image/png": "[encoded data removed]",
      "text/plain": [
       "<Figure size 640x480 with 1 Axes>"
      ]
     },
     "metadata": {},
     "output_type": "display_data"
    }
   ],
   "source": [
    "x = merged_df.index\n",
    "y3 = merged_df['Distance to Closest Park (FourSquare)']\n",
    "y4 = merged_df['Distance to Closest Park (Yelp)']\n",
    "\n",
    "plt.scatter(x, y3, label = 'Foursquare')\n",
    "plt.scatter(x, y4, label = 'yelp')\n",
    "plt.legend()\n",
    "plt.xlabel('Bike Stations')\n",
    "plt.ylabel('Distance to Closest Park (meters)')\n"
   ]
  },
  {
   "cell_type": "markdown",
   "metadata": {},
   "source": [
    "In a perfect and equal world, the orange and blue dots should be overlapping at every point along the x-axis, the dote lower in y value is the more correct one as it would be the closer one to out bike station, it should be noted that at x values:(0,4,5,6,8) the dotes are close meaning they retrieved the same park, 5 out of 9 dots stations, (not too bad). Some dots are very extremly far from each other like x value:1, this would be further investigated. "
   ]
  },
  {
   "cell_type": "markdown",
   "metadata": {},
   "source": [
    "## EDA"
   ]
  },
  {
   "cell_type": "code",
   "execution_count": 41,
   "metadata": {
    "tags": []
   },
   "outputs": [
    {
     "data": {
      "text/html": [
       "<div>\n",
       "<style scoped>\n",
       "    .dataframe tbody tr th:only-of-type {\n",
       "        vertical-align: middle;\n",
       "    }\n",
       "\n",
       "    .dataframe tbody tr th {\n",
       "        vertical-align: top;\n",
       "    }\n",
       "\n",
       "    .dataframe thead th {\n",
       "        text-align: right;\n",
       "    }\n",
       "</style>\n",
       "<table border=\"1\" class=\"dataframe\">\n",
       "  <thead>\n",
       "    <tr style=\"text-align: right;\">\n",
       "      <th></th>\n",
       "      <th>latitude</th>\n",
       "      <th>longitude</th>\n",
       "      <th>Number of Parks found</th>\n",
       "      <th>Distance to Closest Park</th>\n",
       "    </tr>\n",
       "  </thead>\n",
       "  <tbody>\n",
       "    <tr>\n",
       "      <th>count</th>\n",
       "      <td>10.000000</td>\n",
       "      <td>10.000000</td>\n",
       "      <td>10.000000</td>\n",
       "      <td>10.000000</td>\n",
       "    </tr>\n",
       "    <tr>\n",
       "      <th>mean</th>\n",
       "      <td>43.664931</td>\n",
       "      <td>-79.381225</td>\n",
       "      <td>4.600000</td>\n",
       "      <td>1397.249355</td>\n",
       "    </tr>\n",
       "    <tr>\n",
       "      <th>std</th>\n",
       "      <td>0.007555</td>\n",
       "      <td>0.038724</td>\n",
       "      <td>3.025815</td>\n",
       "      <td>3705.754036</td>\n",
       "    </tr>\n",
       "    <tr>\n",
       "      <th>min</th>\n",
       "      <td>43.653236</td>\n",
       "      <td>-79.445947</td>\n",
       "      <td>1.000000</td>\n",
       "      <td>50.869729</td>\n",
       "    </tr>\n",
       "    <tr>\n",
       "      <th>25%</th>\n",
       "      <td>43.659253</td>\n",
       "      <td>-79.394496</td>\n",
       "      <td>3.000000</td>\n",
       "      <td>104.591460</td>\n",
       "    </tr>\n",
       "    <tr>\n",
       "      <th>50%</th>\n",
       "      <td>43.664868</td>\n",
       "      <td>-79.385797</td>\n",
       "      <td>4.500000</td>\n",
       "      <td>261.626676</td>\n",
       "    </tr>\n",
       "    <tr>\n",
       "      <th>75%</th>\n",
       "      <td>43.670121</td>\n",
       "      <td>-79.377609</td>\n",
       "      <td>5.000000</td>\n",
       "      <td>327.585804</td>\n",
       "    </tr>\n",
       "    <tr>\n",
       "      <th>max</th>\n",
       "      <td>43.675492</td>\n",
       "      <td>-79.317693</td>\n",
       "      <td>12.000000</td>\n",
       "      <td>11936.443958</td>\n",
       "    </tr>\n",
       "  </tbody>\n",
       "</table>\n",
       "</div>"
      ],
      "text/plain": [
       "        latitude  longitude  Number of Parks found  Distance to Closest Park\n",
       "count  10.000000  10.000000              10.000000                 10.000000\n",
       "mean   43.664931 -79.381225               4.600000               1397.249355\n",
       "std     0.007555   0.038724               3.025815               3705.754036\n",
       "min    43.653236 -79.445947               1.000000                 50.869729\n",
       "25%    43.659253 -79.394496               3.000000                104.591460\n",
       "50%    43.664868 -79.385797               4.500000                261.626676\n",
       "75%    43.670121 -79.377609               5.000000                327.585804\n",
       "max    43.675492 -79.317693              12.000000              11936.443958"
      ]
     },
     "execution_count": 41,
     "metadata": {},
     "output_type": "execute_result"
    }
   ],
   "source": [
    "df_yelp.describe()"
   ]
  },
  {
   "cell_type": "code",
   "execution_count": null,
   "metadata": {},
   "outputs": [],
   "source": [
    "# The max is too high, it should be 500 (clearly outlier)"
   ]
  },
  {
   "cell_type": "code",
   "execution_count": 40,
   "metadata": {
    "tags": []
   },
   "outputs": [
    {
     "data": {
      "text/html": [
       "<div>\n",
       "<style scoped>\n",
       "    .dataframe tbody tr th:only-of-type {\n",
       "        vertical-align: middle;\n",
       "    }\n",
       "\n",
       "    .dataframe tbody tr th {\n",
       "        vertical-align: top;\n",
       "    }\n",
       "\n",
       "    .dataframe thead th {\n",
       "        text-align: right;\n",
       "    }\n",
       "</style>\n",
       "<table border=\"1\" class=\"dataframe\">\n",
       "  <thead>\n",
       "    <tr style=\"text-align: right;\">\n",
       "      <th></th>\n",
       "      <th>latitude</th>\n",
       "      <th>longitude</th>\n",
       "      <th>Number of Parks found</th>\n",
       "      <th>Distance to Closest Park</th>\n",
       "    </tr>\n",
       "  </thead>\n",
       "  <tbody>\n",
       "    <tr>\n",
       "      <th>count</th>\n",
       "      <td>751.000000</td>\n",
       "      <td>751.000000</td>\n",
       "      <td>751.000000</td>\n",
       "      <td>706.000000</td>\n",
       "    </tr>\n",
       "    <tr>\n",
       "      <th>mean</th>\n",
       "      <td>43.670230</td>\n",
       "      <td>-79.395821</td>\n",
       "      <td>4.458056</td>\n",
       "      <td>202.288952</td>\n",
       "    </tr>\n",
       "    <tr>\n",
       "      <th>std</th>\n",
       "      <td>0.032727</td>\n",
       "      <td>0.064244</td>\n",
       "      <td>3.040708</td>\n",
       "      <td>128.613430</td>\n",
       "    </tr>\n",
       "    <tr>\n",
       "      <th>min</th>\n",
       "      <td>43.588077</td>\n",
       "      <td>-79.550404</td>\n",
       "      <td>0.000000</td>\n",
       "      <td>6.000000</td>\n",
       "    </tr>\n",
       "    <tr>\n",
       "      <th>25%</th>\n",
       "      <td>43.649202</td>\n",
       "      <td>-79.433942</td>\n",
       "      <td>2.000000</td>\n",
       "      <td>111.250000</td>\n",
       "    </tr>\n",
       "    <tr>\n",
       "      <th>50%</th>\n",
       "      <td>43.662857</td>\n",
       "      <td>-79.395043</td>\n",
       "      <td>4.000000</td>\n",
       "      <td>185.000000</td>\n",
       "    </tr>\n",
       "    <tr>\n",
       "      <th>75%</th>\n",
       "      <td>43.684141</td>\n",
       "      <td>-79.367040</td>\n",
       "      <td>7.000000</td>\n",
       "      <td>273.000000</td>\n",
       "    </tr>\n",
       "    <tr>\n",
       "      <th>max</th>\n",
       "      <td>43.788319</td>\n",
       "      <td>-79.123505</td>\n",
       "      <td>10.000000</td>\n",
       "      <td>1388.000000</td>\n",
       "    </tr>\n",
       "  </tbody>\n",
       "</table>\n",
       "</div>"
      ],
      "text/plain": [
       "         latitude   longitude  Number of Parks found  Distance to Closest Park\n",
       "count  751.000000  751.000000             751.000000                706.000000\n",
       "mean    43.670230  -79.395821               4.458056                202.288952\n",
       "std      0.032727    0.064244               3.040708                128.613430\n",
       "min     43.588077  -79.550404               0.000000                  6.000000\n",
       "25%     43.649202  -79.433942               2.000000                111.250000\n",
       "50%     43.662857  -79.395043               4.000000                185.000000\n",
       "75%     43.684141  -79.367040               7.000000                273.000000\n",
       "max     43.788319  -79.123505              10.000000               1388.000000"
      ]
     },
     "execution_count": 40,
     "metadata": {},
     "output_type": "execute_result"
    }
   ],
   "source": [
    "df_foursquare.describe()"
   ]
  },
  {
   "cell_type": "code",
   "execution_count": null,
   "metadata": {},
   "outputs": [],
   "source": [
    "# The max is too high, it should be 500 (clearly outlier)"
   ]
  },
  {
   "cell_type": "code",
   "execution_count": 50,
   "metadata": {
    "tags": []
   },
   "outputs": [
    {
     "data": {
      "text/plain": [
       "Number of Parks found\n",
       "3     109\n",
       "2      98\n",
       "1      96\n",
       "10     77\n",
       "5      76\n",
       "4      76\n",
       "6      57\n",
       "0      45\n",
       "7      43\n",
       "9      40\n",
       "8      34\n",
       "Name: count, dtype: int64"
      ]
     },
     "execution_count": 50,
     "metadata": {},
     "output_type": "execute_result"
    }
   ],
   "source": [
    "df_foursquare['Number of Parks found'].value_counts()"
   ]
  },
  {
   "cell_type": "code",
   "execution_count": 75,
   "metadata": {
    "tags": []
   },
   "outputs": [
    {
     "data": {
      "text/plain": [
       "Number of Parks found\n",
       "5     3\n",
       "3     2\n",
       "1     1\n",
       "4     1\n",
       "12    1\n",
       "6     1\n",
       "2     1\n",
       "Name: count, dtype: int64"
      ]
     },
     "execution_count": 75,
     "metadata": {},
     "output_type": "execute_result"
    }
   ],
   "source": [
    "df_yelp['Number of Parks found'].value_counts()"
   ]
  },
  {
   "cell_type": "markdown",
   "metadata": {},
   "source": [
    "# Database"
   ]
  },
  {
   "cell_type": "markdown",
   "metadata": {},
   "source": [
    "Put all your results in an SQLite3 database (remember, SQLite stores its databases as files in your local machine - make sure to create your database in your project's data/ directory!)"
   ]
  },
  {
   "cell_type": "code",
   "execution_count": 51,
   "metadata": {},
   "outputs": [
    {
     "data": {
      "text/plain": [
       "10"
      ]
     },
     "execution_count": 51,
     "metadata": {},
     "output_type": "execute_result"
    }
   ],
   "source": [
    "conn = sqlite.connect('stats_project.db')\n",
    "merged_df.to_sql('mergered_foursquare_yelp', conn, index=False, if_exists='replace')\n"
   ]
  },
  {
   "cell_type": "code",
   "execution_count": 52,
   "metadata": {
    "tags": []
   },
   "outputs": [],
   "source": [
    "engine = create_engine('sqlite:///data/stats_project.db')\n"
   ]
  },
  {
   "cell_type": "code",
   "execution_count": 58,
   "metadata": {
    "tags": []
   },
   "outputs": [
    {
     "name": "stdout",
     "output_type": "stream",
     "text": [
      " latitude  longitude  Number of Parks found (FourSquare)  Distance to Closest Park (FourSquare)  Number of Parks found (Yelp)  Distance to Closest Park (Yelp)\n",
      "43.665269 -79.319796                                   5                                   63.0                             3                        73.308008\n",
      "43.671420 -79.445947                                   6                                   61.0                             1                       500.794541\n",
      "43.666224 -79.317693                                  10                                  138.0                             5                       258.478643\n",
      "43.653236 -79.376716                                   9                                  214.0                             4                       340.683204\n",
      "43.663722 -79.380288                                  10                                  163.0                            12                       198.441814\n",
      "43.657763 -79.389165                                   2                                  307.0                             5                       288.293606\n",
      "43.656729 -79.382736                                   8                                  270.0                             6                       264.774708\n",
      "43.664467 -79.414783                                   6                                  253.0                             3                        50.869729\n",
      "43.675492 -79.388858                                   7                                   48.0                             5                        60.405338\n",
      "43.674991 -79.396273                                   8                                  164.0                             2                     11936.443958\n"
     ]
    }
   ],
   "source": [
    "query = 'SELECT * FROM mergered_foursquare_yelp'\n",
    "result_df = pd.read_sql_query(query, conn)\n",
    "\n",
    "print(result_df.to_string(index=False))\n"
   ]
  },
  {
   "cell_type": "markdown",
   "metadata": {},
   "source": [
    "Look at the data before and after the join to validate your data."
   ]
  },
  {
   "cell_type": "code",
   "execution_count": null,
   "metadata": {},
   "outputs": [],
   "source": [
    "# The data resembles what was seen in the merged_df dataframe that was created"
   ]
  }
 ],
 "metadata": {
  "kernelspec": {
   "display_name": "Python 3 (ipykernel)",
   "language": "python",
   "name": "python3"
  },
  "language_info": {
   "codemirror_mode": {
    "name": "ipython",
    "version": 3
   },
   "file_extension": ".py",
   "mimetype": "text/x-python",
   "name": "python",
   "nbconvert_exporter": "python",
   "pygments_lexer": "ipython3",
   "version": "3.11.5"
  }
 },
 "nbformat": 4,
 "nbformat_minor": 4
}
