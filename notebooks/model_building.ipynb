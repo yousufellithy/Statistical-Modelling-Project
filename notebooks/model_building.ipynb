{
 "cells": [
  {
   "cell_type": "code",
   "execution_count": 7,
   "metadata": {
    "tags": []
   },
   "outputs": [],
   "source": [
    "import pandas as pd\n",
    "import numpy as np\n",
    "import statsmodels.api as sm\n",
    "from sklearn import linear_model, datasets"
   ]
  },
  {
   "cell_type": "code",
   "execution_count": 5,
   "metadata": {
    "tags": []
   },
   "outputs": [],
   "source": [
    "df_foursquare = pd.read_csv('foursquare_data.csv')\n",
    "df_yelp = pd.read_csv('yeld_data.csv')\n",
    "df_merged = pd.read_csv('merged_df.csv')"
   ]
  },
  {
   "cell_type": "markdown",
   "metadata": {},
   "source": [
    "Build a regression model."
   ]
  },
  {
   "cell_type": "code",
   "execution_count": 17,
   "metadata": {
    "tags": []
   },
   "outputs": [],
   "source": [
    "X = df_merged[['Number of Parks found (FourSquare)', 'Distance to Closest Park (FourSquare)', 'Number of Parks found (Yelp)', 'Distance to Closest Park (Yelp)']]\n",
    "y = df_merged.index"
   ]
  },
  {
   "cell_type": "code",
   "execution_count": 18,
   "metadata": {
    "tags": []
   },
   "outputs": [],
   "source": [
    "X = sm.add_constant(X) # adding a constant\n",
    "lin_reg = sm.OLS(y,X)"
   ]
  },
  {
   "cell_type": "markdown",
   "metadata": {},
   "source": [
    "Provide model output and an interpretation of the results. "
   ]
  },
  {
   "cell_type": "code",
   "execution_count": 20,
   "metadata": {
    "tags": []
   },
   "outputs": [
    {
     "name": "stdout",
     "output_type": "stream",
     "text": [
      "                            OLS Regression Results                            \n",
      "==============================================================================\n",
      "Dep. Variable:                      y   R-squared:                       0.403\n",
      "Model:                            OLS   Adj. R-squared:                 -0.074\n",
      "Method:                 Least Squares   F-statistic:                    0.8455\n",
      "Date:                Mon, 20 Nov 2023   Prob (F-statistic):              0.552\n",
      "Time:                        00:21:14   Log-Likelihood:                -22.157\n",
      "No. Observations:                  10   AIC:                             54.31\n",
      "Df Residuals:                       5   BIC:                             55.83\n",
      "Df Model:                           4                                         \n",
      "Covariance Type:            nonrobust                                         \n",
      "=========================================================================================================\n",
      "                                            coef    std err          t      P>|t|      [0.025      0.975]\n",
      "---------------------------------------------------------------------------------------------------------\n",
      "const                                     2.0262      4.056      0.500      0.639      -8.399      12.452\n",
      "Number of Parks found (FourSquare)       -0.1039      0.513     -0.202      0.848      -1.423       1.216\n",
      "Distance to Closest Park (FourSquare)     0.0095      0.012      0.775      0.474      -0.022       0.041\n",
      "Number of Parks found (Yelp)              0.2065      0.439      0.471      0.658      -0.921       1.334\n",
      "Distance to Closest Park (Yelp)           0.0005      0.000      1.524      0.188      -0.000       0.001\n",
      "==============================================================================\n",
      "Omnibus:                        5.633   Durbin-Watson:                   0.822\n",
      "Prob(Omnibus):                  0.060   Jarque-Bera (JB):                2.321\n",
      "Skew:                           1.158   Prob(JB):                        0.313\n",
      "Kurtosis:                       3.453   Cond. No.                     1.55e+04\n",
      "==============================================================================\n",
      "\n",
      "Notes:\n",
      "[1] Standard Errors assume that the covariance matrix of the errors is correctly specified.\n",
      "[2] The condition number is large, 1.55e+04. This might indicate that there are\n",
      "strong multicollinearity or other numerical problems.\n"
     ]
    },
    {
     "name": "stderr",
     "output_type": "stream",
     "text": [
      "/Users/yousufellithy/anaconda3/lib/python3.11/site-packages/scipy/stats/_stats_py.py:1806: UserWarning: kurtosistest only valid for n>=20 ... continuing anyway, n=10\n",
      "  warnings.warn(\"kurtosistest only valid for n>=20 ... continuing \"\n"
     ]
    }
   ],
   "source": [
    "model = lin_reg.fit()\n",
    "print_model = model.summary()\n",
    "print(print_model)"
   ]
  },
  {
   "cell_type": "markdown",
   "metadata": {},
   "source": [
    "# Stretch"
   ]
  },
  {
   "cell_type": "markdown",
   "metadata": {},
   "source": [
    "How can you turn the regression model into a classification model?"
   ]
  },
  {
   "cell_type": "code",
   "execution_count": null,
   "metadata": {},
   "outputs": [],
   "source": []
  }
 ],
 "metadata": {
  "kernelspec": {
   "display_name": "Python 3 (ipykernel)",
   "language": "python",
   "name": "python3"
  },
  "language_info": {
   "codemirror_mode": {
    "name": "ipython",
    "version": 3
   },
   "file_extension": ".py",
   "mimetype": "text/x-python",
   "name": "python",
   "nbconvert_exporter": "python",
   "pygments_lexer": "ipython3",
   "version": "3.11.5"
  }
 },
 "nbformat": 4,
 "nbformat_minor": 4
}
