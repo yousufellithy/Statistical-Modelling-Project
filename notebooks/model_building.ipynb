{
 "cells": [
  {
   "cell_type": "code",
   "execution_count": 6,
   "metadata": {
    "tags": []
   },
   "outputs": [],
   "source": [
    "import pandas as pd\n",
    "import numpy as np\n",
    "import statsmodels.api as sm\n",
    "from sklearn import linear_model, datasets"
   ]
  },
  {
   "cell_type": "code",
   "execution_count": 7,
   "metadata": {
    "tags": []
   },
   "outputs": [],
   "source": [
    "df_foursquare = pd.read_csv('foursquare_data.csv')\n",
    "df_yelp = pd.read_csv('yeld_data.csv')\n",
    "df_merged = pd.read_csv('merged_df.csv')"
   ]
  },
  {
   "cell_type": "markdown",
   "metadata": {},
   "source": [
    "Build a regression model."
   ]
  },
  {
   "cell_type": "code",
   "execution_count": 8,
   "metadata": {
    "tags": []
   },
   "outputs": [],
   "source": [
    "X = df_merged[['Number of Parks found (FourSquare)', 'Distance to Closest Park (FourSquare)', 'Number of Parks found (Yelp)', 'Distance to Closest Park (Yelp)']]\n",
    "y = df_merged['latitude']"
   ]
  },
  {
   "cell_type": "code",
   "execution_count": 9,
   "metadata": {
    "tags": []
   },
   "outputs": [],
   "source": [
    "X = sm.add_constant(X) # adding a constant\n",
    "lin_reg = sm.OLS(y,X)"
   ]
  },
  {
   "cell_type": "markdown",
   "metadata": {},
   "source": [
    "Provide model output and an interpretation of the results. "
   ]
  },
  {
   "cell_type": "code",
   "execution_count": 10,
   "metadata": {
    "tags": []
   },
   "outputs": [
    {
     "name": "stdout",
     "output_type": "stream",
     "text": [
      "                            OLS Regression Results                            \n",
      "==============================================================================\n",
      "Dep. Variable:               latitude   R-squared:                       0.692\n",
      "Model:                            OLS   Adj. R-squared:                  0.384\n",
      "Method:                 Least Squares   F-statistic:                     2.246\n",
      "Date:                Wed, 22 Nov 2023   Prob (F-statistic):              0.226\n",
      "Time:                        17:43:03   Log-Likelihood:                 37.610\n",
      "No. Observations:                   9   AIC:                            -65.22\n",
      "Df Residuals:                       4   BIC:                            -64.23\n",
      "Df Model:                           4                                         \n",
      "Covariance Type:            nonrobust                                         \n",
      "=========================================================================================================\n",
      "                                            coef    std err          t      P>|t|      [0.025      0.975]\n",
      "---------------------------------------------------------------------------------------------------------\n",
      "const                                    43.6785      0.008   5813.848      0.000      43.658      43.699\n",
      "Number of Parks found (FourSquare)       -0.0005      0.001     -0.516      0.633      -0.003       0.002\n",
      "Distance to Closest Park (FourSquare) -5.977e-05    2.2e-05     -2.712      0.053      -0.000    1.43e-06\n",
      "Number of Parks found (Yelp)           8.896e-05      0.001      0.110      0.918      -0.002       0.002\n",
      "Distance to Closest Park (Yelp)       -7.321e-06   1.39e-05     -0.526      0.627    -4.6e-05    3.13e-05\n",
      "==============================================================================\n",
      "Omnibus:                        2.011   Durbin-Watson:                   1.812\n",
      "Prob(Omnibus):                  0.366   Jarque-Bera (JB):                1.226\n",
      "Skew:                          -0.831   Prob(JB):                        0.542\n",
      "Kurtosis:                       2.289   Cond. No.                     1.26e+03\n",
      "==============================================================================\n",
      "\n",
      "Notes:\n",
      "[1] Standard Errors assume that the covariance matrix of the errors is correctly specified.\n",
      "[2] The condition number is large, 1.26e+03. This might indicate that there are\n",
      "strong multicollinearity or other numerical problems.\n"
     ]
    },
    {
     "name": "stderr",
     "output_type": "stream",
     "text": [
      "/Users/yousufellithy/anaconda3/lib/python3.11/site-packages/scipy/stats/_stats_py.py:1806: UserWarning: kurtosistest only valid for n>=20 ... continuing anyway, n=9\n",
      "  warnings.warn(\"kurtosistest only valid for n>=20 ... continuing \"\n"
     ]
    }
   ],
   "source": [
    "model = lin_reg.fit()\n",
    "print_model = model.summary()\n",
    "print(print_model)"
   ]
  },
  {
   "cell_type": "markdown",
   "metadata": {},
   "source": [
    "Is there a correleation between the distnace and number of parks to planes of latitude (of bikes)? The only correlation found was to the Distance to Closest Park from (FourSquare), which had a pvalue of 0.053 (rounded down would be 0.05) and the R-squared: 0.692 which is strong enough. The rest seem to indicate that they have no effect on the planes of latitude of bike stations. "
   ]
  },
  {
   "cell_type": "markdown",
   "metadata": {},
   "source": [
    "# Stretch"
   ]
  },
  {
   "cell_type": "markdown",
   "metadata": {},
   "source": [
    "How can you turn the regression model into a classification model?"
   ]
  },
  {
   "cell_type": "code",
   "execution_count": null,
   "metadata": {},
   "outputs": [],
   "source": []
  }
 ],
 "metadata": {
  "kernelspec": {
   "display_name": "Python 3 (ipykernel)",
   "language": "python",
   "name": "python3"
  },
  "language_info": {
   "codemirror_mode": {
    "name": "ipython",
    "version": 3
   },
   "file_extension": ".py",
   "mimetype": "text/x-python",
   "name": "python",
   "nbconvert_exporter": "python",
   "pygments_lexer": "ipython3",
   "version": "3.11.5"
  }
 },
 "nbformat": 4,
 "nbformat_minor": 4
}
